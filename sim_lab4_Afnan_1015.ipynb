{
  "nbformat": 4,
  "nbformat_minor": 0,
  "metadata": {
    "colab": {
      "provenance": []
    },
    "kernelspec": {
      "name": "python3",
      "display_name": "Python 3"
    },
    "language_info": {
      "name": "python"
    }
  },
  "cells": [
    {
      "cell_type": "code",
      "source": [
        "import random\n",
        "import numpy as np\n",
        "import math\n",
        "\n",
        "def estimate_pi(num_points):\n",
        "    inside = 0  # Count points inside the circle\n",
        "\n",
        "    for i in range(num_points):\n",
        "        if i < num_points // 2:\n",
        "            x = random.uniform(0, 4.1)\n",
        "            y = random.uniform(0, 4.1)\n",
        "        else:\n",
        "            x = np.random.rand() * 4.1\n",
        "            y = np.random.rand() * 4.1\n",
        "\n",
        "        if x*x + y*y <= 4.1**2:\n",
        "            inside += 1  # Point is inside the circle\n",
        "\n",
        "    pi_estimate = 4 * inside / num_points\n",
        "    error = abs(math.pi - pi_estimate)\n",
        "\n",
        "    return num_points, inside, pi_estimate, error  # Return all needed values\n",
        "\n",
        "\n",
        "print(\"Range Used | Total Points | Points Inside | Estimated π | Error from π\")\n",
        "for run in range(1, 6):\n",
        "    num_points = 23400\n",
        "    total, inside, pi_estimate, error = estimate_pi(num_points)\n",
        "    print(f\"[0, 4.1]   | {total:<12} | {inside:<13} | {pi_estimate:<11.6f} | {error:.6f}\")\n"
      ],
      "metadata": {
        "colab": {
          "base_uri": "https://localhost:8080/"
        },
        "id": "AxYeJWBQr7CO",
        "outputId": "df54b4d8-ad54-4a66-999b-5c3cfb4a5dbb"
      },
      "execution_count": 6,
      "outputs": [
        {
          "output_type": "stream",
          "name": "stdout",
          "text": [
            "Range Used | Total Points | Points Inside | Estimated π | Error from π\n",
            "[0, 4.1]   | 23400        | 18507         | 3.163590    | 0.021997\n",
            "[0, 4.1]   | 23400        | 18403         | 3.145812    | 0.004219\n",
            "[0, 4.1]   | 23400        | 18293         | 3.127009    | 0.014584\n",
            "[0, 4.1]   | 23400        | 18303         | 3.128718    | 0.012875\n",
            "[0, 4.1]   | 23400        | 18534         | 3.168205    | 0.026612\n"
          ]
        }
      ]
    }
  ]
}